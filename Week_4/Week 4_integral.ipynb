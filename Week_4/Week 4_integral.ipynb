{
 "cells": [
  {
   "cell_type": "markdown",
   "id": "4b045d4c",
   "metadata": {},
   "source": [
    "# Numerical Integral"
   ]
  },
  {
   "cell_type": "markdown",
   "id": "ae5d8d1e",
   "metadata": {},
   "source": [
    "## Question 1\n",
    "Evaluate $$\\int_0^\\infty \\dfrac{1}{1+25x^2} dx$$\n",
    "\n",
    "In fact, it can be calculate by hand that the integral equals to $\\dfrac{\\pi}{10}$."
   ]
  },
  {
   "cell_type": "code",
   "execution_count": 1,
   "id": "ed375a80",
   "metadata": {},
   "outputs": [],
   "source": [
    "import numpy as np\n",
    "import matplotlib.pyplot as plt"
   ]
  },
  {
   "cell_type": "code",
   "execution_count": 2,
   "id": "4b4ee9f7",
   "metadata": {},
   "outputs": [
    {
     "data": {
      "image/png": "[encoded data removed]",
      "text/plain": [
       "<Figure size 640x480 with 1 Axes>"
      ]
     },
     "metadata": {},
     "output_type": "display_data"
    }
   ],
   "source": [
    "# Define the function\n",
    "f = lambda x: 1/(1+25*x**2)\n",
    "\n",
    "# Plot\n",
    "x = np.linspace(0, 2, 500)\n",
    "y = f(x)\n",
    "plt.plot(x, y, label=r'$f(x) = \\frac{1}{1+25x^2}$')\n",
    "plt.fill_between(x, y, alpha=0.2)\n",
    "plt.title('Function and Area Under Curve')\n",
    "plt.xlabel('x')\n",
    "plt.ylabel('f(x)')\n",
    "plt.legend()\n",
    "plt.show()"
   ]
  },
  {
   "cell_type": "code",
   "execution_count": null,
   "id": "936eb6f1",
   "metadata": {},
   "outputs": [
    {
     "name": "stdout",
     "output_type": "stream",
     "text": [
      "Integral using sympy: 0.3141592653589793. Exact value: 0.3141592653589793\n",
      "Error = 0.0\n",
      "The result is accurate to at least 10 decimal places.\n",
      "-------------------------------------------------------\n",
      "Integral using scipy.integrate.quad: 0.3141592653589789. Exact value: 0.3141592653589793\n",
      "Error = 3.885780586188048e-16\n",
      "The result is accurate to at least 10 decimal places.\n",
      "-------------------------------------------------------\n",
      "Integral using np.trapz: 0.3141588653589788. Exact value: 0.3141592653589793\n",
      "Error = 4.0000000051110263e-07\n",
      "-------------------------------------------------------\n"
     ]
    },
    {
     "name": "stderr",
     "output_type": "stream",
     "text": [
      "/var/folders/q8/qg42266s5bn3hq7vrzw4nlgc0000gn/T/ipykernel_3694/2662202788.py:28: DeprecationWarning: `trapz` is deprecated. Use `trapezoid` instead, or one of the numerical integration functions in `scipy.integrate`.\n",
      "  approx = np.trapz(y_vals, x_vals)\n"
     ]
    },
    {
     "name": "stdout",
     "output_type": "stream",
     "text": [
      "Integral using Monte Carlo: [np.float64(0.3061861306182174), np.float64(0.30611732332949315), np.float64(0.3062114782022143), np.float64(0.3062481752776589), np.float64(0.3060266976997216), np.float64(0.30622655922517056), np.float64(0.30622678766729633), np.float64(0.3062692631767094), np.float64(0.3061164364431619), np.float64(0.30606963813962784)]. Exact value: 0.3141592653589793\n",
      "Error = 0.007989416381052161\n",
      "-------------------------------------------------------\n"
     ]
    }
   ],
   "source": [
    "# Method 1: Using sympy package\n",
    "import sympy as sp\n",
    "x = sp.symbols('x')\n",
    "integral_sympy = sp.integrate(1/(1+25*x**2), (x, 0, sp.oo))\n",
    "ans = float(integral_sympy)\n",
    "print(f\"Integral using sympy: {ans}. Exact value: {np.pi/10}\")\n",
    "print(f\"Error = {np.pi/10 - ans}\")\n",
    "if abs(np.pi/10 - ans) < 1e-10:\n",
    "    print(\"The result is accurate to at least 10 decimal places.\")\n",
    "print('-------------------------------------------------------')\n",
    "\n",
    "\n",
    "# Method 2: Using scipy.integrate.quad\n",
    "import scipy.integrate as integrate\n",
    "result, error = integrate.quad(f, 0, float('inf'), epsabs=1e-10)\n",
    "print(f\"Integral using scipy.integrate.quad: {result}. Exact value: {np.pi/10}\")\n",
    "print(f\"Error = {np.pi/10 - result}\")\n",
    "\n",
    "if abs(np.pi/10 - result) < 1e-10:\n",
    "    print(\"The result is accurate to at least 10 decimal places.\")\n",
    "print('-------------------------------------------------------')\n",
    "\n",
    "# Method 3: Using np.trapz (Composite trapezoidal rule)\n",
    "\n",
    "f = lambda x: 1 / (1 + 25*x**2)\n",
    "x_vals = np.linspace(0, 10**5, 10**7)  # 上限取夠大近似無窮\n",
    "y_vals = f(x_vals)\n",
    "approx = np.trapz(y_vals, x_vals)\n",
    "print(f\"Integral using np.trapz: {approx}. Exact value: {np.pi/10}\")\n",
    "print(f\"Error = {np.pi/10 - approx}\")\n",
    "if abs(np.pi/10 - approx) < 1e-10:\n",
    "    print(\"The result is accurate to at least 10 decimal places.\")\n",
    "print('-------------------------------------------------------')\n",
    "\n",
    "# Method 4: Using Monte Carlo\n",
    "N = 10**8\n",
    "a, b = 0, 5\n",
    "estimates = []\n",
    "for i in range(10):\n",
    "    X = np.random.uniform(a, b, N)\n",
    "    Y = 1 / (1 + 25*X**2)\n",
    "    estimate = (b - a) * np.mean(Y)\n",
    "    estimates.append(estimate)\n",
    "estimate_result = np.mean(estimates)\n",
    "print(f\"Integral using Monte Carlo: {estimate_result}. Exact value: {np.pi/10}\")\n",
    "print(f\"Error = {np.pi/10 - estimate_result}\")\n",
    "if abs(np.pi/10 - estimate_result) < 1e-10:\n",
    "    print(\"The result is accurate to at least 10 decimal places.\")\n",
    "print('-------------------------------------------------------')\n"
   ]
  },
  {
   "cell_type": "markdown",
   "id": "95d78aa3",
   "metadata": {},
   "source": [
    "### Comment\n",
    "Since this integral has a closed form solution, no matter what method we use, the results can be quite approximated to real solution."
   ]
  },
  {
   "cell_type": "markdown",
   "id": "b1d195a8",
   "metadata": {},
   "source": [
    "## Question 2\n",
    "Evaluate $$\\int_0^1 \\dfrac{\\ln(x)}{1+25x^2} dx$$\n",
    "\n",
    "For this time, there does not exist closed form of solution."
   ]
  },
  {
   "cell_type": "code",
   "execution_count": 9,
   "id": "0ef7f727",
   "metadata": {},
   "outputs": [
    {
     "name": "stderr",
     "output_type": "stream",
     "text": [
      "/var/folders/q8/qg42266s5bn3hq7vrzw4nlgc0000gn/T/ipykernel_3534/2389104627.py:2: RuntimeWarning: divide by zero encountered in log\n",
      "  f = lambda x: np.log(x)/(1+25*x**2)\n"
     ]
    },
    {
     "data": {
      "image/png": "[encoded data removed]",
      "text/plain": [
       "<Figure size 640x480 with 1 Axes>"
      ]
     },
     "metadata": {},
     "output_type": "display_data"
    }
   ],
   "source": [
    "# Define the function\n",
    "f = lambda x: np.log(x)/(1+25*x**2)\n",
    "\n",
    "# Plot\n",
    "x = np.linspace(0, 1, 500)\n",
    "y = f(x)\n",
    "plt.plot(x, y, label=r'$f(x) = \\frac{\\ln(x)}{1+25x^2}$')\n",
    "plt.fill_between(x, y, alpha=0.2)\n",
    "plt.title('Function and Area Under Curve')\n",
    "plt.xlabel('x')\n",
    "plt.ylabel('f(x)')\n",
    "plt.legend()\n",
    "plt.show()"
   ]
  },
  {
   "cell_type": "code",
   "execution_count": 6,
   "id": "66eca45a",
   "metadata": {},
   "outputs": [
    {
     "name": "stdout",
     "output_type": "stream",
     "text": [
      "Reference (mpmath, 50 dps) = -0.54544456341979804172342105032300319625862993402633\n"
     ]
    }
   ],
   "source": [
    "import mpmath as mp\n",
    "mp.mp.dps = 50  # 高精度做參考真值與誤差\n",
    "\n",
    "# 參考真值（高精度）：直接在 x∈(0,1) 上積分，mpmath 會處理 ln 的端點奇異\n",
    "f_x = lambda x: mp.log(x) / (1 + 25*x**2)\n",
    "I_ref = mp.quad(f_x, [0, 1])   # 拆區間以處理端點\n",
    "print(\"Reference (mpmath, 50 dps) =\", I_ref)"
   ]
  },
  {
   "cell_type": "code",
   "execution_count": 15,
   "id": "dee6dcf0",
   "metadata": {},
   "outputs": [
    {
     "name": "stdout",
     "output_type": "stream",
     "text": [
      "Integral using scipy.integrate.quad: 0.3141592653589789.\n",
      "Error = -0.8596038288\n",
      "-------------------------------------------------------\n",
      "Integral using np.trapz: 0.27468015338838675.\n",
      "Error = -0.8201247168\n",
      "-------------------------------------------------------\n",
      "Integral using Monte Carlo: -0.5452070042266095.\n",
      "Error = -0.0002375592\n",
      "-------------------------------------------------------\n"
     ]
    },
    {
     "name": "stderr",
     "output_type": "stream",
     "text": [
      "/var/folders/q8/qg42266s5bn3hq7vrzw4nlgc0000gn/T/ipykernel_3694/1600861830.py:28: DeprecationWarning: `trapz` is deprecated. Use `trapezoid` instead, or one of the numerical integration functions in `scipy.integrate`.\n",
      "  approx = np.trapz(y_vals, x_vals)\n"
     ]
    }
   ],
   "source": [
    "# Method 1: Using sympy package (No closed form, cannot use)\n",
    "# import sympy as sp\n",
    "# x = sp.symbols('x')\n",
    "# integral_sympy = sp.integrate(sp.log(x)/(1+25*x**2), (x, 0, 1))\n",
    "# ans = float(integral_sympy)\n",
    "# print(f\"Integral using sympy: {ans}. Exact value: {np.pi/10}\")\n",
    "# print(f\"Error = {np.pi/10 - ans}\")\n",
    "# if abs(np.pi/10 - ans) < 1e-10:\n",
    "#     print(\"The result is accurate to at least 10 decimal places.\")\n",
    "# print('-------------------------------------------------------')\n",
    "\n",
    "\n",
    "# Method 2: Using scipy.integrate.quad\n",
    "import scipy.integrate as integrate\n",
    "result, error = integrate.quad(f, 0, float('inf'), epsabs=1e-10)\n",
    "print(f\"Integral using scipy.integrate.quad: {result}.\")\n",
    "print(f\"Error = {(float(I_ref - result)):.10f}\")\n",
    "\n",
    "\n",
    "if abs(I_ref - result) < 1e-10:\n",
    "    print(\"The result is accurate to at least 10 decimal places.\")\n",
    "print('-------------------------------------------------------')\n",
    "\n",
    "# Method 3: Using np.trapz (Composite trapezoidal rule)\n",
    "\n",
    "x_vals = np.linspace(0, 1, 10**5)  # 上限取夠大近似無窮\n",
    "y_vals = f(x_vals)\n",
    "approx = np.trapz(y_vals, x_vals)\n",
    "print(f\"Integral using np.trapz: {approx}.\")\n",
    "print(f\"Error = {(float(I_ref - approx)):.10f}\")\n",
    "if abs(I_ref - approx) < 1e-10:\n",
    "    print(\"The result is accurate to at least 10 decimal places.\")\n",
    "print('-------------------------------------------------------')\n",
    "\n",
    "# Method 4: Using Monte Carlo\n",
    "N = 10**7\n",
    "a, b = 0, 1\n",
    "X = np.random.uniform(a, b, N)\n",
    "Y = np.log(X) / (1 + 25*X**2)\n",
    "estimate = (b - a) * np.mean(Y)\n",
    "print(f\"Integral using Monte Carlo: {estimate}.\")\n",
    "print(f\"Error = {(float(I_ref - estimate)):.10f}\")\n",
    "if abs(I_ref - approx) < 1e-10:\n",
    "    print(\"The result is accurate to at least 10 decimal places.\")\n",
    "print('-------------------------------------------------------')\n"
   ]
  },
  {
   "cell_type": "markdown",
   "id": "1c551bf0",
   "metadata": {},
   "source": [
    "### Comment\n",
    "If we try to integrate directly, the results seems to be not so good. "
   ]
  },
  {
   "cell_type": "markdown",
   "id": "004c13da",
   "metadata": {},
   "source": [
    "### Transform 1\n",
    "Now we consider split the integral interval to two parts:\n",
    "\n",
    "$$\\int_0^1 \\dfrac{\\ln(x)}{1+25x^2} dx=\\underbrace{\\int_0^\\varepsilon \\dfrac{\\ln(x)}{1+25x^2} dx}_{I_1}+\\underbrace{\\int_\\varepsilon^1 \\dfrac{\\ln(x)}{1+25x^2} dx}_{I_2}$$\n",
    "\n",
    "which $\\varepsilon$ choose to be $10^{-8}$\n",
    "\n"
   ]
  },
  {
   "cell_type": "code",
   "execution_count": 44,
   "id": "3766dc12",
   "metadata": {},
   "outputs": [
    {
     "name": "stdout",
     "output_type": "stream",
     "text": [
      "[Reference mpmath 50dps]  I = -0.54544456341979804172342105032300319625862993402633\n",
      "\n",
      "[Method 1: sympy numeric split]\n",
      "Value  = -0.54544456341979804172342105032300319625862993402633\n",
      "AbsErr = 0.0\n",
      "-------------------------------------------------------\n",
      "[Method 2: scipy.integrate.quad split]\n",
      "AbsErr = 0.0\n",
      "-------------------------------------------------------\n",
      "[Method 3: np.trapz split]\n",
      "I = -0.5454555717051204    (N1=N2=200000)\n",
      "AbsErr = 1.100828532230036e-05\n",
      "-------------------------------------------------------\n",
      "[Method 4: Monte Carlo split (uniform)]\n",
      "I = -0.5455449672201097    (M1=M2=2e6)\n",
      "AbsErr = 0.00010040380031162144\n",
      "-------------------------------------------------------\n"
     ]
    },
    {
     "name": "stderr",
     "output_type": "stream",
     "text": [
      "/var/folders/q8/qg42266s5bn3hq7vrzw4nlgc0000gn/T/ipykernel_3694/1711812324.py:52: DeprecationWarning: `trapz` is deprecated. Use `trapezoid` instead, or one of the numerical integration functions in `scipy.integrate`.\n",
      "  I2 = np.trapz(y2, x2)\n",
      "/var/folders/q8/qg42266s5bn3hq7vrzw4nlgc0000gn/T/ipykernel_3694/1711812324.py:59: DeprecationWarning: `trapz` is deprecated. Use `trapezoid` instead, or one of the numerical integration functions in `scipy.integrate`.\n",
      "  I1 = np.trapz(y1, x1)\n"
     ]
    }
   ],
   "source": [
    "# ---- params & imports ----\n",
    "import numpy as np\n",
    "import mpmath as mp\n",
    "mp.mp.dps = 50  # 高精度\n",
    "EPS = 1e-8      \n",
    "fmt = lambda x: f\"{x:.10f}\"\n",
    "\n",
    "# 參考真值（高精度，直接在 [0,1] 上積分，拆區處理端點）\n",
    "f_mp = lambda x: mp.log(x)/(1+25*x**2)\n",
    "I_ref = mp.quad(f_mp, [0, 1])\n",
    "print(f\"[Reference mpmath 50dps]  I = {I_ref}\\n\")\n",
    "\n",
    "# ---- Method 1: Sympy numeric on two subintervals ----\n",
    "x = sp.symbols('x', positive=True)\n",
    "expr = sp.log(x)/(1+25*x**2)\n",
    "# 轉成 mpmath 函數，確保真的做數值\n",
    "f_mp = sp.lambdify(x, expr, 'mpmath')\n",
    "\n",
    "I1_sym = mp.quad(f_mp, [0, EPS])\n",
    "I2_sym = mp.quad(f_mp, [EPS, 1])\n",
    "I_sym = I1_sym + I2_sym\n",
    "\n",
    "abs_err = abs(I_sym - I_ref)\n",
    "print(\"[Method 1: sympy numeric split]\")\n",
    "print(\"Value  =\", I_sym)\n",
    "print(\"AbsErr =\", abs_err)\n",
    "print('-------------------------------------------------------')\n",
    "\n",
    "# ---- Method 2: SciPy quad on two subintervals ----\n",
    "try:\n",
    "    from scipy.integrate import quad\n",
    "\n",
    "    f_np = lambda x: np.log(x)/(1+25*x**2)\n",
    "\n",
    "    I1_quad, e1 = quad(f_np, 0.0, EPS, epsabs=1e-12, epsrel=1e-12, limit=200)\n",
    "    I2_quad, e2 = quad(f_np, EPS, 1.0, epsabs=1e-12, epsrel=1e-12, limit=200)\n",
    "\n",
    "    I_quad = I1_quad + I2_quad\n",
    "    abs_err = abs(I_quad - float(I_ref))\n",
    "    print(\"[Method 2: scipy.integrate.quad split]\")\n",
    "    # print(\"I =\", I_quad, \"   quad est.err parts ~\", e1, \"+\", e2)\n",
    "    print(\"AbsErr =\", abs_err)\n",
    "except Exception as e:\n",
    "    print(\"[Method 2: quad] skipped due to:\", e, \"\\n\")\n",
    "print('-------------------------------------------------------')\n",
    "\n",
    "# ---- Method 3: Composite trapezoid (np.trapz) ----\n",
    "def trapz_split(EPS, N1=200_000, N2=200_000):\n",
    "    # I2 on [EPS,1]\n",
    "    x2 = np.linspace(EPS, 1.0, N2, dtype=float)\n",
    "    y2 = np.log(x2)/(1+25*x2**2)\n",
    "    I2 = np.trapz(y2, x2)\n",
    "\n",
    "    # I1 on [0,EPS]  x = EPS*t\n",
    "    t_min = 1e-12\n",
    "    t1 = np.linspace(t_min, 1.0, N1, dtype=float) # 確保 不會有 0 輸入函數裡\n",
    "    x1 = EPS * t1\n",
    "    y1 = np.log(x1)/(1+25*x1**2)\n",
    "    I1 = np.trapz(y1, x1)  \n",
    "\n",
    "    return I1 + I2\n",
    "\n",
    "I_trapz = trapz_split(EPS)\n",
    "abs_err = abs(I_trapz - float(I_ref))\n",
    "print(\"[Method 3: np.trapz split]\")\n",
    "print(\"I =\", I_trapz, \"   (N1=N2=200000)\")\n",
    "print(\"AbsErr =\", abs_err)\n",
    "print('-------------------------------------------------------')\n",
    "\n",
    "# ---- Method 4: Monte Carlo (split) ----\n",
    "rng = np.random.default_rng(114514)\n",
    "\n",
    "def mc_split(EPS, M1=2000000, M2=2000000):\n",
    "    # I2: X ~ Uniform(EPS,1)\n",
    "    X2 = rng.random(M2)*(1.0 - EPS) + EPS\n",
    "    Y2 = np.log(X2)/(1+25*X2**2)\n",
    "    I2 = (1.0 - EPS) * np.mean(Y2)\n",
    "\n",
    "    # I1: X ~ Uniform(0,EPS). 避免產生 0：夾到極小正數\n",
    "    T = rng.random(M1)                  # in [0,1)\n",
    "    T = np.clip(T, 1e-300, 1.0)         # 避免 log(0)\n",
    "    X1 = EPS * T\n",
    "    Y1 = np.log(X1)/(1+25*X1**2)\n",
    "    I1 = EPS * np.mean(Y1)\n",
    "\n",
    "    return I1 + I2\n",
    "\n",
    "I_mc = mc_split(EPS)\n",
    "abs_err = abs(I_mc - float(I_ref))\n",
    "print(\"[Method 4: Monte Carlo split (uniform)]\")\n",
    "print(\"I =\", I_mc, \"   (M1=M2=2e6)\")\n",
    "print(\"AbsErr =\", abs_err)\n",
    "print('-------------------------------------------------------')\n",
    "\n"
   ]
  },
  {
   "cell_type": "markdown",
   "id": "19f6efe4",
   "metadata": {},
   "source": [
    "### Transform 2\n",
    "Here consider to transform the integral interval to $[0, \\infty]$ by substituing $x=e^{-u}$, then \n",
    "\n",
    "$$\\int_0^1 \\dfrac{\\ln(x)}{1+25x^2}dx=\\int_0^\\infty -\\dfrac{ue^{-u}}{1+25e^{-2u}} du$$"
   ]
  },
  {
   "cell_type": "code",
   "execution_count": 21,
   "id": "a274deab",
   "metadata": {},
   "outputs": [],
   "source": [
    "g_u = lambda u: (-u*mp.e**(-u)) / (1 + 25*mp.e**(-2*u))"
   ]
  },
  {
   "cell_type": "code",
   "execution_count": 46,
   "id": "9c906a6e",
   "metadata": {},
   "outputs": [
    {
     "name": "stdout",
     "output_type": "stream",
     "text": [
      "[Sympy numeric]\n",
      "Value = -0.54544456341979804172342105032300319625862993402633\n",
      "AbsErr = 0.0\n",
      "-------------------------------------------------------\n",
      "\n",
      "[SciPy quad (on u)]\n",
      "Value = -0.545444563419798    quad est.err ~ 4.589792321923997e-13\n",
      "AbsErr = 1.1102230246251565e-16\n",
      "-------------------------------------------------------\n",
      "\n",
      "[Composite trapezoid]\n",
      "Value = -0.539416519090794   (Umax = 1000000 , N = 700000 )\n",
      "AbsErr = 0.006028044329004056\n",
      "-------------------------------------------------------\n",
      "\n",
      "[Monte Carlo: Importance sampling on u~Exp(1)]\n",
      "Value = -0.5449023388950565  (M = 2000000 )\n",
      "AbsErr = 0.0005422245247416191\n",
      "-------------------------------------------------------\n"
     ]
    },
    {
     "name": "stderr",
     "output_type": "stream",
     "text": [
      "/var/folders/q8/qg42266s5bn3hq7vrzw4nlgc0000gn/T/ipykernel_3694/148434266.py:41: DeprecationWarning: `trapz` is deprecated. Use `trapezoid` instead, or one of the numerical integration functions in `scipy.integrate`.\n",
      "  I_trapz = np.trapz(g_np, u)\n"
     ]
    }
   ],
   "source": [
    "# Method 1: Sympy\n",
    "\n",
    "# 定義符號與被積函數\n",
    "x = sp.symbols('x', positive=True)\n",
    "expr = sp.log(x)/(1+25*x**2)\n",
    "\n",
    "# 用 Sympy 轉成 mpmath lambda，讓它真的數值積分\n",
    "f_mp = sp.lambdify(x, expr, 'mpmath')\n",
    "\n",
    "I_sym_val = mp.quad(f_mp, [0, 1])     # 真正的數值積分結果\n",
    "\n",
    "f_ref = lambda x: mp.log(x)/(1+25*x**2)\n",
    "I_ref = mp.quad(f_ref, [0, 1])\n",
    "\n",
    "# 誤差\n",
    "abs_err = abs(I_sym_val - I_ref)\n",
    "\n",
    "# 輸出\n",
    "print(f\"[Sympy numeric]\")\n",
    "print(f\"Value = {I_sym_val}\")\n",
    "print(f\"AbsErr = {abs_err}\")\n",
    "print('-------------------------------------------------------')\n",
    "\n",
    "# Method 2: Scipy quad\n",
    "from scipy.integrate import quad\n",
    "g = lambda u: (-u*np.exp(-u)) / (1 + 25*np.exp(-2*u))\n",
    "val, est = quad(g, 0, np.inf, epsabs=1e-12, epsrel=1e-12, limit=200)\n",
    "abs_err = abs(val - float(I_ref))\n",
    "print(\"\\n[SciPy quad (on u)]\")\n",
    "print(\"Value =\", val, \"   quad est.err ~\", est)\n",
    "print(\"AbsErr =\", abs_err)\n",
    "print('-------------------------------------------------------')\n",
    "\n",
    "# Method 3: Composite trapezoid (np.trapz)\n",
    "Umax = 10**6\n",
    "N = 700000  # 可視時間調整；增加 N 可降誤差\n",
    "u = np.linspace(0.0, Umax, N, dtype=float)\n",
    "\n",
    "# 用 numpy 版本的 g(u)\n",
    "g_np = (-u*np.exp(-u)) / (1 + 25*np.exp(-2*u))\n",
    "I_trapz = np.trapz(g_np, u)\n",
    "\n",
    "# 尾端 [Umax, ∞) 很小，可選擇忽略或用指數尾估（此處直接忽略）\n",
    "abs_err = abs(I_trapz - float(I_ref))\n",
    "print(\"\\n[Composite trapezoid]\")\n",
    "print(\"Value =\", I_trapz, \"  (Umax =\", Umax, \", N =\", N, \")\")\n",
    "print(\"AbsErr =\", abs_err)\n",
    "print('-------------------------------------------------------')\n",
    "\n",
    "# Method 4: Monte Carlo (importance sampling on u~Exp(1))\n",
    "rng = np.random.default_rng(114514)\n",
    "M = 2*10**6\n",
    "U = rng.exponential(scale=1.0, size=M)  # Exp(1)\n",
    "W = -1*U / (1 + 25*np.exp(-2*U))           # = g(U)/p(U)\n",
    "I_mc_is = W.mean()                      # 無需再乘任何區間長\n",
    "abs_err = abs(I_mc_is - float(I_ref))\n",
    "print(\"\\n[Monte Carlo: Importance sampling on u~Exp(1)]\")\n",
    "print(\"Value =\", I_mc_is, \" (M =\", M, \")\")\n",
    "print(\"AbsErr =\", abs_err)\n",
    "print('-------------------------------------------------------')"
   ]
  },
  {
   "cell_type": "markdown",
   "id": "bd5d23c6",
   "metadata": {},
   "source": [
    "### Comment\n",
    "Here we try to different methods to transform original integral. First we try to split the interval to two parts, and second we try to transform the interval to whole positive real numbers. We can observe that the result is better when we use the first method to transform."
   ]
  },
  {
   "cell_type": "markdown",
   "id": "518a4515",
   "metadata": {},
   "source": []
  }
 ],
 "metadata": {
  "kernelspec": {
   "display_name": "Python 3",
   "language": "python",
   "name": "python3"
  },
  "language_info": {
   "codemirror_mode": {
    "name": "ipython",
    "version": 3
   },
   "file_extension": ".py",
   "mimetype": "text/x-python",
   "name": "python",
   "nbconvert_exporter": "python",
   "pygments_lexer": "ipython3",
   "version": "3.9.6"
  }
 },
 "nbformat": 4,
 "nbformat_minor": 5
}
